{
 "cells": [
  {
   "cell_type": "code",
   "execution_count": null,
   "id": "6ea3e302-d976-4d61-b290-c898dfa09627",
   "metadata": {},
   "outputs": [],
   "source": [
    "print(\"test\")"
   ]
  },
  {
   "cell_type": "code",
   "execution_count": null,
   "id": "6789048a-9120-457f-be6a-08c2e2d91ac5",
   "metadata": {},
   "outputs": [],
   "source": []
  }
 ],
 "metadata": {
  "kernelspec": {
   "display_name": "Python [conda env:pytest]",
   "language": "python",
   "name": "conda-env-pytest-py"
  },
  "language_info": {
   "codemirror_mode": "shell",
   "file_extension": ".sh",
   "mimetype": "text/x-sh",
   "name": "bash"
  }
 },
 "nbformat": 4,
 "nbformat_minor": 5
}
